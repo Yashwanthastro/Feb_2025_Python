{
 "cells": [
  {
   "cell_type": "code",
   "execution_count": 2,
   "id": "c953ab43",
   "metadata": {},
   "outputs": [
    {
     "data": {
      "text/plain": [
       "'C:\\\\Users\\\\User\\\\Documents\\\\nareshit\\\\Python_Sessions'"
      ]
     },
     "execution_count": 2,
     "metadata": {},
     "output_type": "execute_result"
    }
   ],
   "source": [
    "import os \n",
    "os.getcwd()\n",
    "# get Current working directory(cwd)"
   ]
  },
  {
   "cell_type": "markdown",
   "id": "809b4272",
   "metadata": {},
   "source": [
    "## Variables"
   ]
  },
  {
   "cell_type": "markdown",
   "id": "38e8b6cf",
   "metadata": {},
   "source": [
    "Variables are used to store the values, and the values can be change"
   ]
  },
  {
   "cell_type": "markdown",
   "id": "7089f3b1",
   "metadata": {},
   "source": [
    "- hii \n",
    "- how are you?\n",
    "- variables you are also called containers"
   ]
  },
  {
   "cell_type": "code",
   "execution_count": 4,
   "id": "dba0846f",
   "metadata": {},
   "outputs": [
    {
     "name": "stdout",
     "output_type": "stream",
     "text": [
      "100\n"
     ]
    }
   ],
   "source": [
    "num=100\n",
    "# value 100 stored in a variable called:num\n",
    "print(num)"
   ]
  },
  {
   "cell_type": "code",
   "execution_count": 5,
   "id": "934ff042",
   "metadata": {},
   "outputs": [
    {
     "name": "stdout",
     "output_type": "stream",
     "text": [
      "200\n"
     ]
    }
   ],
   "source": [
    "num=200\n",
    "print(num)"
   ]
  },
  {
   "cell_type": "code",
   "execution_count": 6,
   "id": "2e3cbf2f",
   "metadata": {},
   "outputs": [
    {
     "data": {
      "text/plain": [
       "200"
      ]
     },
     "execution_count": 6,
     "metadata": {},
     "output_type": "execute_result"
    }
   ],
   "source": [
    "NUM=200\n",
    "NUM"
   ]
  },
  {
   "cell_type": "code",
   "execution_count": 7,
   "id": "b8b1ecfb",
   "metadata": {},
   "outputs": [
    {
     "data": {
      "text/plain": [
       "300"
      ]
     },
     "execution_count": 7,
     "metadata": {},
     "output_type": "execute_result"
    }
   ],
   "source": [
    "number=300\n",
    "number"
   ]
  },
  {
   "cell_type": "code",
   "execution_count": 8,
   "id": "403b026d",
   "metadata": {},
   "outputs": [
    {
     "data": {
      "text/plain": [
       "(300, 200)"
      ]
     },
     "execution_count": 8,
     "metadata": {},
     "output_type": "execute_result"
    }
   ],
   "source": [
    "number,NUM"
   ]
  },
  {
   "cell_type": "code",
   "execution_count": 9,
   "id": "e8802268",
   "metadata": {},
   "outputs": [
    {
     "data": {
      "text/plain": [
       "300"
      ]
     },
     "execution_count": 9,
     "metadata": {},
     "output_type": "execute_result"
    }
   ],
   "source": [
    "num123=300\n",
    "num123"
   ]
  },
  {
   "cell_type": "code",
   "execution_count": 10,
   "id": "5b4d8724",
   "metadata": {},
   "outputs": [
    {
     "ename": "SyntaxError",
     "evalue": "invalid syntax (<ipython-input-10-47f85ce15b30>, line 1)",
     "output_type": "error",
     "traceback": [
      "\u001b[1;36m  File \u001b[1;32m\"<ipython-input-10-47f85ce15b30>\"\u001b[1;36m, line \u001b[1;32m1\u001b[0m\n\u001b[1;33m    123number=400\u001b[0m\n\u001b[1;37m       ^\u001b[0m\n\u001b[1;31mSyntaxError\u001b[0m\u001b[1;31m:\u001b[0m invalid syntax\n"
     ]
    }
   ],
   "source": [
    "123number=400\n",
    "123number"
   ]
  },
  {
   "cell_type": "markdown",
   "id": "09c848c0",
   "metadata": {},
   "source": [
    "NUMBERone=500\n",
    "NUMBERone"
   ]
  },
  {
   "cell_type": "code",
   "execution_count": 12,
   "id": "c4ba539d",
   "metadata": {},
   "outputs": [
    {
     "ename": "SyntaxError",
     "evalue": "cannot assign to operator (<ipython-input-12-c5ae3d67ad2e>, line 1)",
     "output_type": "error",
     "traceback": [
      "\u001b[1;36m  File \u001b[1;32m\"<ipython-input-12-c5ae3d67ad2e>\"\u001b[1;36m, line \u001b[1;32m1\u001b[0m\n\u001b[1;33m    number&one=600\u001b[0m\n\u001b[1;37m    ^\u001b[0m\n\u001b[1;31mSyntaxError\u001b[0m\u001b[1;31m:\u001b[0m cannot assign to operator\n"
     ]
    }
   ],
   "source": [
    "number&one=600\n",
    "number&one"
   ]
  },
  {
   "cell_type": "code",
   "execution_count": 13,
   "id": "d8a2a05b",
   "metadata": {},
   "outputs": [
    {
     "data": {
      "text/plain": [
       "600"
      ]
     },
     "execution_count": 13,
     "metadata": {},
     "output_type": "execute_result"
    }
   ],
   "source": [
    "number_one=600\n",
    "number_one"
   ]
  },
  {
   "cell_type": "code",
   "execution_count": 14,
   "id": "33c41b3d",
   "metadata": {},
   "outputs": [
    {
     "ename": "SyntaxError",
     "evalue": "invalid syntax (<ipython-input-14-369825b7e9d4>, line 1)",
     "output_type": "error",
     "traceback": [
      "\u001b[1;36m  File \u001b[1;32m\"<ipython-input-14-369825b7e9d4>\"\u001b[1;36m, line \u001b[1;32m1\u001b[0m\n\u001b[1;33m    number one=350\u001b[0m\n\u001b[1;37m           ^\u001b[0m\n\u001b[1;31mSyntaxError\u001b[0m\u001b[1;31m:\u001b[0m invalid syntax\n"
     ]
    }
   ],
   "source": [
    "number one=350\n",
    "number one"
   ]
  },
  {
   "cell_type": "code",
   "execution_count": null,
   "id": "77e1b837",
   "metadata": {},
   "outputs": [],
   "source": [
    "NUM # works\n",
    "number # works\n",
    "num123 # works\n",
    "123num # not works\n",
    "number$one # NW\n",
    "number&one # NW\n",
    "number_one # work\n",
    "number one # NW\n",
    "if=100 # NW\n",
    "_=100 # works"
   ]
  },
  {
   "cell_type": "markdown",
   "id": "27c04eb3",
   "metadata": {},
   "source": [
    "- variables can be a capital letters\n",
    "- variables can be a small letter\n",
    "- variable can be mix of both capital and small letters\n",
    "- variables can be mix of letters and numbers as **suffix**\n",
    "- variables can not be a mix of letters and numbers as **perfix**\n",
    "- variables can not be include special chars except **underscore**\n",
    "- variable can not be include a **space between words**\n",
    "- only underscore is consider as variables\n",
    "- inbuilt keywords can not be a variables"
   ]
  },
  {
   "cell_type": "code",
   "execution_count": 15,
   "id": "94938bd8",
   "metadata": {},
   "outputs": [
    {
     "data": {
      "text/plain": [
       "600"
      ]
     },
     "execution_count": 15,
     "metadata": {},
     "output_type": "execute_result"
    }
   ],
   "source": [
    "_=600\n",
    "_"
   ]
  },
  {
   "cell_type": "code",
   "execution_count": null,
   "id": "e6d4175e",
   "metadata": {},
   "outputs": [],
   "source": []
  }
 ],
 "metadata": {
  "kernelspec": {
   "display_name": "Python 3",
   "language": "python",
   "name": "python3"
  },
  "language_info": {
   "codemirror_mode": {
    "name": "ipython",
    "version": 3
   },
   "file_extension": ".py",
   "mimetype": "text/x-python",
   "name": "python",
   "nbconvert_exporter": "python",
   "pygments_lexer": "ipython3",
   "version": "3.8.8"
  }
 },
 "nbformat": 4,
 "nbformat_minor": 5
}
