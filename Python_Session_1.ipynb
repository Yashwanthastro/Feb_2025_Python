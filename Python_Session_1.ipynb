{
 "cells": [
  {
   "cell_type": "code",
   "execution_count": 14,
   "id": "63b674ff",
   "metadata": {},
   "outputs": [
    {
     "data": {
      "text/plain": [
       "100"
      ]
     },
     "execution_count": 14,
     "metadata": {},
     "output_type": "execute_result"
    }
   ],
   "source": [
    "a=100\n",
    "a"
   ]
  },
  {
   "cell_type": "code",
   "execution_count": 2,
   "id": "7d632827",
   "metadata": {},
   "outputs": [
    {
     "data": {
      "text/plain": [
       "30"
      ]
     },
     "execution_count": 2,
     "metadata": {},
     "output_type": "execute_result"
    }
   ],
   "source": [
    "a=10\n",
    "b=20\n",
    "a+b"
   ]
  },
  {
   "cell_type": "code",
   "execution_count": 6,
   "id": "0908d858",
   "metadata": {},
   "outputs": [
    {
     "data": {
      "text/plain": [
       "125"
      ]
     },
     "execution_count": 6,
     "metadata": {},
     "output_type": "execute_result"
    }
   ],
   "source": [
    "n1=100\n",
    "n1+n2"
   ]
  },
  {
   "cell_type": "code",
   "execution_count": 5,
   "id": "d767401f",
   "metadata": {},
   "outputs": [],
   "source": [
    "n2=25"
   ]
  },
  {
   "cell_type": "markdown",
   "id": "58c4d325",
   "metadata": {},
   "source": [
    "today i am learning about kernel\n",
    "\n",
    "then in the top"
   ]
  },
  {
   "cell_type": "markdown",
   "id": "a70dff70",
   "metadata": {},
   "source": [
    "i like python"
   ]
  },
  {
   "cell_type": "markdown",
   "id": "a568f29f",
   "metadata": {},
   "source": [
    "- i like data science\n",
    "- esc+m---code mode to markdown mode\n",
    "- esc+y---markdown to code mode\n",
    "- shift+enter\n",
    "- square bracket indicates code mode\n",
    "- when we arein mark down mode square brackets didn't appear\n",
    "- blue color bar indicates the corresponding cell selected"
   ]
  },
  {
   "cell_type": "markdown",
   "id": "34ddb0e7",
   "metadata": {},
   "source": [
    " # python\n",
    "- when we use # symbol in code mode it behave as comment\n",
    "- when we use the same in markdown mode it behave as title"
   ]
  },
  {
   "cell_type": "markdown",
   "id": "d1558135",
   "metadata": {},
   "source": [
    "<img id=\"dimg_2wwZZ42VGJu94-EP4JT0IA_305\" src=\"data:image/jpeg;base64,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\" class=\"YQ4gaf\" height=\"155\" style=\"object-position:50% 100%\" width=\"325\" alt=\"best programming languages ...\" data-csiid=\"2wwZZ42VGJu94-EP4JT0IA_14\" data-atf=\"1\">"
   ]
  },
  {
   "cell_type": "markdown",
   "id": "8799ae9e",
   "metadata": {},
   "source": [
    "- Steps for uploading the image\n",
    "- \n",
    "CTRL+A;\n",
    "CTRL+C;\n",
    "CTRL+V;\n",
    "ESC+m;\n",
    "shift+enter"
   ]
  },
  {
   "cell_type": "code",
   "execution_count": null,
   "id": "f0c614b8",
   "metadata": {},
   "outputs": [],
   "source": []
  }
 ],
 "metadata": {
  "kernelspec": {
   "display_name": "Python 3",
   "language": "python",
   "name": "python3"
  },
  "language_info": {
   "codemirror_mode": {
    "name": "ipython",
    "version": 3
   },
   "file_extension": ".py",
   "mimetype": "text/x-python",
   "name": "python",
   "nbconvert_exporter": "python",
   "pygments_lexer": "ipython3",
   "version": "3.8.8"
  }
 },
 "nbformat": 4,
 "nbformat_minor": 5
}
