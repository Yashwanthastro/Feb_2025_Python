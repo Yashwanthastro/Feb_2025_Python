{
 "cells": [
  {
   "cell_type": "markdown",
   "id": "b796f875",
   "metadata": {},
   "source": [
    "# Data types"
   ]
  },
  {
   "cell_type": "markdown",
   "id": "bb23c75d",
   "metadata": {},
   "source": [
    "- python can say data type of value with out intializing\n",
    "- which means the data type automatically consider\n",
    "- python has some inbuilt datatype structure\n",
    "- int : integer\n",
    "- float \n",
    "- boo : boolean\n",
    "- str : string\n",
    "- complex\n",
    "- list\n",
    "- tuple\n",
    "- dict : dictoniary\n",
    "- set\n",
    "- frozenset\n",
    "- bytes\n",
    "- bytearray\n",
    "- memoryview\n"
   ]
  },
  {
   "cell_type": "markdown",
   "id": "1a8fc535",
   "metadata": {},
   "source": [
    "# integer"
   ]
  },
  {
   "cell_type": "code",
   "execution_count": 1,
   "id": "40e7ca2c",
   "metadata": {},
   "outputs": [
    {
     "data": {
      "text/plain": [
       "int"
      ]
     },
     "execution_count": 1,
     "metadata": {},
     "output_type": "execute_result"
    }
   ],
   "source": [
    "num=100\n",
    "type(num)"
   ]
  },
  {
   "cell_type": "code",
   "execution_count": 2,
   "id": "7ebf88ef",
   "metadata": {},
   "outputs": [
    {
     "name": "stdout",
     "output_type": "stream",
     "text": [
      "100\n"
     ]
    }
   ],
   "source": [
    "print(num)"
   ]
  },
  {
   "cell_type": "markdown",
   "id": "3f9e9d51",
   "metadata": {},
   "source": [
    "**binary number system**\n",
    " \n",
    "- digits: 0,1,2,3,4,5,6,7,8,9\n",
    "- binary : bi means two : 0 and 1\n",
    "- representation is : 0b001,0B111,0b101\n",
    "- wrong representation is: o, 0b102"
   ]
  },
  {
   "cell_type": "code",
   "execution_count": 3,
   "id": "f5a8812a",
   "metadata": {},
   "outputs": [
    {
     "data": {
      "text/plain": [
       "7"
      ]
     },
     "execution_count": 3,
     "metadata": {},
     "output_type": "execute_result"
    }
   ],
   "source": [
    "0b111"
   ]
  },
  {
   "cell_type": "code",
   "execution_count": 5,
   "id": "9f848b09",
   "metadata": {},
   "outputs": [
    {
     "data": {
      "text/plain": [
       "21"
      ]
     },
     "execution_count": 5,
     "metadata": {},
     "output_type": "execute_result"
    }
   ],
   "source": [
    "0b10101"
   ]
  },
  {
   "cell_type": "code",
   "execution_count": 6,
   "id": "22d83d2c",
   "metadata": {},
   "outputs": [
    {
     "data": {
      "text/plain": [
       "10"
      ]
     },
     "execution_count": 6,
     "metadata": {},
     "output_type": "execute_result"
    }
   ],
   "source": [
    "0b1010"
   ]
  },
  {
   "cell_type": "code",
   "execution_count": 7,
   "id": "72f5ab71",
   "metadata": {},
   "outputs": [
    {
     "data": {
      "text/plain": [
       "15"
      ]
     },
     "execution_count": 7,
     "metadata": {},
     "output_type": "execute_result"
    }
   ],
   "source": [
    "0b1111"
   ]
  },
  {
   "cell_type": "code",
   "execution_count": null,
   "id": "574313e5",
   "metadata": {},
   "outputs": [],
   "source": [
    "0       0       0       0      0\n",
    "0       0       0       1      1\n",
    "0       0       1       0      2 \n",
    "0       0       1       1      3\n",
    "0       1       0       0      4\n",
    "0       1       0       1      5\n",
    "0       1       1       0      6\n",
    "0       1       1       1      7\n",
    "1       0       0       0      8\n",
    "1       0       0       1      9\n",
    "1       0       1       0      10\n",
    "1       0       1       1      11\n",
    "1       1       0       0      12\n",
    "1       1       0       1\n",
    "1       1       1       0\n",
    "1       1       1       1\n"
   ]
  },
  {
   "cell_type": "markdown",
   "id": "552070d5",
   "metadata": {},
   "source": [
    "**octal number system**\n",
    "- octa : octa means 8 : 0,1,2,3,4,5,6,7\n",
    "- representation is : 0o124,0O567,0o765\n",
    "- wrong representation is: 'o' as start, 0O182"
   ]
  },
  {
   "cell_type": "markdown",
   "id": "dd4885fd",
   "metadata": {},
   "source": [
    "**hexa number system**\n",
    "- hexa : hexa means 16 : 0,1,2,3,4,5,6,7,8,9,A=10,B=11,C=12,D=13,E=14,F=15\n",
    "- representation is : 0Xabc,0x567,0X123\n",
    "- wrong representation is: 'x' as start, 0h67"
   ]
  },
  {
   "cell_type": "code",
   "execution_count": 8,
   "id": "58354ec7",
   "metadata": {},
   "outputs": [
    {
     "data": {
      "text/plain": [
       "291"
      ]
     },
     "execution_count": 8,
     "metadata": {},
     "output_type": "execute_result"
    }
   ],
   "source": [
    "0x123"
   ]
  },
  {
   "cell_type": "code",
   "execution_count": 9,
   "id": "ece6e4d6",
   "metadata": {},
   "outputs": [
    {
     "data": {
      "text/plain": [
       "2748"
      ]
     },
     "execution_count": 9,
     "metadata": {},
     "output_type": "execute_result"
    }
   ],
   "source": [
    "0Xabc\n"
   ]
  },
  {
   "cell_type": "code",
   "execution_count": 10,
   "id": "1ac68abb",
   "metadata": {},
   "outputs": [
    {
     "data": {
      "text/plain": [
       "239"
      ]
     },
     "execution_count": 10,
     "metadata": {},
     "output_type": "execute_result"
    }
   ],
   "source": [
    "0xef"
   ]
  },
  {
   "cell_type": "markdown",
   "id": "1e6f3d3a",
   "metadata": {},
   "source": [
    "**float**\n",
    "- float means continues points\n",
    "- float nos means having some decimals\n",
    "- integer no means discrete points\n",
    "- "
   ]
  },
  {
   "cell_type": "code",
   "execution_count": 11,
   "id": "591e25e6",
   "metadata": {},
   "outputs": [
    {
     "data": {
      "text/plain": [
       "float"
      ]
     },
     "execution_count": 11,
     "metadata": {},
     "output_type": "execute_result"
    }
   ],
   "source": [
    "num=100.25\n",
    "type(num)"
   ]
  },
  {
   "cell_type": "markdown",
   "id": "14d1880a",
   "metadata": {},
   "source": [
    "- float points can represent exponential format **e**"
   ]
  },
  {
   "cell_type": "code",
   "execution_count": 18,
   "id": "674f4265",
   "metadata": {},
   "outputs": [
    {
     "data": {
      "text/plain": [
       "1000.0"
      ]
     },
     "execution_count": 18,
     "metadata": {},
     "output_type": "execute_result"
    }
   ],
   "source": [
    "1e1 # 1*10\n",
    "1e2 # 1*100\n",
    "1e3 # 1*1000"
   ]
  },
  {
   "cell_type": "code",
   "execution_count": 14,
   "id": "708e70d0",
   "metadata": {},
   "outputs": [
    {
     "data": {
      "text/plain": [
       "200.0"
      ]
     },
     "execution_count": 14,
     "metadata": {},
     "output_type": "execute_result"
    }
   ],
   "source": [
    "2e2 # 2*100"
   ]
  },
  {
   "cell_type": "code",
   "execution_count": 16,
   "id": "b9d06f0b",
   "metadata": {},
   "outputs": [
    {
     "name": "stdout",
     "output_type": "stream",
     "text": [
      "10.0\n",
      "100.0\n",
      "1000.0\n"
     ]
    }
   ],
   "source": [
    "print(1e+1) # 1*10\n",
    "print(1e+2) #1*100\n",
    "print(1e+3) #1*1000"
   ]
  },
  {
   "cell_type": "code",
   "execution_count": 17,
   "id": "c88c76d2",
   "metadata": {},
   "outputs": [
    {
     "name": "stdout",
     "output_type": "stream",
     "text": [
      "0.1\n",
      "0.01\n",
      "0.001\n"
     ]
    }
   ],
   "source": [
    "print(1e-1) # 1/10\n",
    "print(1e-2) # 1/100\n",
    "print(1e-3) # 1/1000"
   ]
  },
  {
   "cell_type": "markdown",
   "id": "d7972f44",
   "metadata": {},
   "source": [
    "**Strings**\n"
   ]
  },
  {
   "cell_type": "markdown",
   "id": "7d08d6c5",
   "metadata": {},
   "source": [
    "- Strings means english characters"
   ]
  },
  {
   "cell_type": "code",
   "execution_count": 20,
   "id": "8390e670",
   "metadata": {},
   "outputs": [
    {
     "data": {
      "text/plain": [
       "str"
      ]
     },
     "execution_count": 20,
     "metadata": {},
     "output_type": "execute_result"
    }
   ],
   "source": [
    "name=\"Python\"\n",
    "type(name)"
   ]
  },
  {
   "cell_type": "code",
   "execution_count": 22,
   "id": "c1174bdb",
   "metadata": {},
   "outputs": [
    {
     "data": {
      "text/plain": [
       "str"
      ]
     },
     "execution_count": 22,
     "metadata": {},
     "output_type": "execute_result"
    }
   ],
   "source": [
    "num='10'\n",
    "type(num)"
   ]
  },
  {
   "cell_type": "code",
   "execution_count": 23,
   "id": "8a002208",
   "metadata": {},
   "outputs": [
    {
     "name": "stdout",
     "output_type": "stream",
     "text": [
      "hello i like 'python'\n"
     ]
    }
   ],
   "source": [
    "sen1=\"hello i like 'python'\"\n",
    "print(sen1)"
   ]
  },
  {
   "cell_type": "code",
   "execution_count": 24,
   "id": "e51edb82",
   "metadata": {},
   "outputs": [
    {
     "name": "stdout",
     "output_type": "stream",
     "text": [
      "Hello I like \"python\"\n"
     ]
    }
   ],
   "source": [
    "sen2='Hello I like \"python\"'\n",
    "print(sen2)"
   ]
  },
  {
   "cell_type": "markdown",
   "id": "d3f1d2cb",
   "metadata": {},
   "source": [
    "- Entire sentence in single quotes,then use double quotes to highlights the word\n",
    "- entire sentence in double quotes, then use single quotes to highlite the word"
   ]
  },
  {
   "cell_type": "code",
   "execution_count": 25,
   "id": "502ae1e6",
   "metadata": {},
   "outputs": [
    {
     "data": {
      "text/plain": [
       "'python'"
      ]
     },
     "execution_count": 25,
     "metadata": {},
     "output_type": "execute_result"
    }
   ],
   "source": [
    "name='python'\n",
    "name"
   ]
  },
  {
   "cell_type": "code",
   "execution_count": 26,
   "id": "de92ea33",
   "metadata": {},
   "outputs": [
    {
     "name": "stdout",
     "output_type": "stream",
     "text": [
      "python\n"
     ]
    }
   ],
   "source": [
    "print(name)"
   ]
  },
  {
   "cell_type": "code",
   "execution_count": 27,
   "id": "c9e8c21f",
   "metadata": {},
   "outputs": [
    {
     "data": {
      "text/plain": [
       "'python'"
      ]
     },
     "execution_count": 27,
     "metadata": {},
     "output_type": "execute_result"
    }
   ],
   "source": [
    "name1='python'\n",
    "name2='nareshit'\n",
    "name2\n",
    "name1"
   ]
  },
  {
   "cell_type": "code",
   "execution_count": 28,
   "id": "fbc7bd3d",
   "metadata": {},
   "outputs": [
    {
     "name": "stdout",
     "output_type": "stream",
     "text": [
      "nareshit\n",
      "python\n"
     ]
    }
   ],
   "source": [
    "name1='python'\n",
    "name2='nareshit'\n",
    "print(name2)\n",
    "print(name1)"
   ]
  },
  {
   "cell_type": "code",
   "execution_count": 29,
   "id": "0ddb1b78",
   "metadata": {},
   "outputs": [
    {
     "name": "stdout",
     "output_type": "stream",
     "text": [
      "Hello i like 'python'\n",
      "              hai good morning\n",
      "              class data types\n"
     ]
    }
   ],
   "source": [
    "    statement=\"\"\"Hello i like 'python'\n",
    "                  hai good morning\n",
    "                  class data types\"\"\"\n",
    "    print(statement)"
   ]
  },
  {
   "cell_type": "markdown",
   "id": "baae14ac",
   "metadata": {},
   "source": [
    "**Doc string**"
   ]
  },
  {
   "cell_type": "markdown",
   "id": "342d0a78",
   "metadata": {},
   "source": [
    "- if we want to convey information to the user\n",
    "- we will write a statements before coding part\n",
    "- is called as Doc string\n",
    "- in jupyter notebook to convey information we have **markdown**\n",
    "- but in vs code we dont have a markdown option\n",
    "- we convey the information by using **triple quotes**\n",
    "- if we see any where triple quotes means the user trying to convey the information\n",
    "- "
   ]
  },
  {
   "cell_type": "code",
   "execution_count": 31,
   "id": "2945c76b",
   "metadata": {},
   "outputs": [
    {
     "data": {
      "text/plain": [
       "'\\nwrite something\\n'"
      ]
     },
     "execution_count": 31,
     "metadata": {},
     "output_type": "execute_result"
    }
   ],
   "source": [
    "\"\"\"\n",
    "write something\n",
    "\"\"\"\n",
    "\n",
    "'''\n",
    "write something\n",
    "'''"
   ]
  },
  {
   "cell_type": "markdown",
   "id": "3d2733fb",
   "metadata": {},
   "source": [
    "**boolean**"
   ]
  },
  {
   "cell_type": "code",
   "execution_count": 32,
   "id": "035e7c4f",
   "metadata": {},
   "outputs": [
    {
     "data": {
      "text/plain": [
       "bool"
      ]
     },
     "execution_count": 32,
     "metadata": {},
     "output_type": "execute_result"
    }
   ],
   "source": [
    "value=True\n",
    "type(value)"
   ]
  },
  {
   "cell_type": "code",
   "execution_count": 33,
   "id": "369e9b29",
   "metadata": {},
   "outputs": [
    {
     "data": {
      "text/plain": [
       "bool"
      ]
     },
     "execution_count": 33,
     "metadata": {},
     "output_type": "execute_result"
    }
   ],
   "source": [
    "value=False\n",
    "type(value)"
   ]
  },
  {
   "cell_type": "code",
   "execution_count": null,
   "id": "ac7e53e3",
   "metadata": {},
   "outputs": [],
   "source": [
    "true='True'\n",
    "true=True\n",
    "true=10"
   ]
  },
  {
   "cell_type": "code",
   "execution_count": null,
   "id": "a4845f3e",
   "metadata": {},
   "outputs": [],
   "source": []
  }
 ],
 "metadata": {
  "kernelspec": {
   "display_name": "Python 3",
   "language": "python",
   "name": "python3"
  },
  "language_info": {
   "codemirror_mode": {
    "name": "ipython",
    "version": 3
   },
   "file_extension": ".py",
   "mimetype": "text/x-python",
   "name": "python",
   "nbconvert_exporter": "python",
   "pygments_lexer": "ipython3",
   "version": "3.8.8"
  }
 },
 "nbformat": 4,
 "nbformat_minor": 5
}
